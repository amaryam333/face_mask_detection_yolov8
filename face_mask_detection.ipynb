{
  "nbformat": 4,
  "nbformat_minor": 0,
  "metadata": {
    "colab": {
      "provenance": [],
      "gpuType": "T4"
    },
    "kernelspec": {
      "name": "python3",
      "display_name": "Python 3"
    },
    "language_info": {
      "name": "python"
    },
    "accelerator": "GPU"
  },
  "cells": [
    {
      "cell_type": "markdown",
      "source": [
        "# **Connecting to Google-Drive**"
      ],
      "metadata": {
        "id": "8OEbADUcdN7o"
      }
    },
    {
      "cell_type": "code",
      "execution_count": 10,
      "metadata": {
        "colab": {
          "base_uri": "https://localhost:8080/"
        },
        "id": "2LnSun2zLFkJ",
        "outputId": "a2684bbe-6975-4aa8-e092-137617939d64"
      },
      "outputs": [
        {
          "output_type": "stream",
          "name": "stdout",
          "text": [
            "Drive already mounted at /content/drive; to attempt to forcibly remount, call drive.mount(\"/content/drive\", force_remount=True).\n"
          ]
        }
      ],
      "source": [
        "from google.colab import drive\n",
        "drive.mount('/content/drive')\n"
      ]
    },
    {
      "cell_type": "markdown",
      "source": [
        "# **specifying the directory**"
      ],
      "metadata": {
        "id": "Fe49L7STdVPK"
      }
    },
    {
      "cell_type": "code",
      "source": [
        "import os\n",
        "os.chdir(\"/content/drive/MyDrive/project/face_mask_rec_using_yolov8\")\n",
        "\n",
        "# List files in the directory to verify\n",
        "!ls"
      ],
      "metadata": {
        "colab": {
          "base_uri": "https://localhost:8080/"
        },
        "id": "V97hWUXELyJO",
        "outputId": "4fb1f166-83f8-4c05-8a7b-390d701414ef"
      },
      "execution_count": 11,
      "outputs": [
        {
          "output_type": "stream",
          "name": "stdout",
          "text": [
            "face_data-20240225T125822Z-001\n"
          ]
        }
      ]
    },
    {
      "cell_type": "code",
      "source": [
        "!pip install ultralytics"
      ],
      "metadata": {
        "colab": {
          "base_uri": "https://localhost:8080/"
        },
        "id": "_g3wOjZJLyMT",
        "outputId": "27383c53-27d9-4991-9d61-668cab08009a"
      },
      "execution_count": 12,
      "outputs": [
        {
          "output_type": "stream",
          "name": "stdout",
          "text": [
            "Requirement already satisfied: ultralytics in /usr/local/lib/python3.10/dist-packages (8.1.19)\n",
            "Requirement already satisfied: matplotlib>=3.3.0 in /usr/local/lib/python3.10/dist-packages (from ultralytics) (3.7.1)\n",
            "Requirement already satisfied: opencv-python>=4.6.0 in /usr/local/lib/python3.10/dist-packages (from ultralytics) (4.8.0.76)\n",
            "Requirement already satisfied: pillow>=7.1.2 in /usr/local/lib/python3.10/dist-packages (from ultralytics) (9.4.0)\n",
            "Requirement already satisfied: pyyaml>=5.3.1 in /usr/local/lib/python3.10/dist-packages (from ultralytics) (6.0.1)\n",
            "Requirement already satisfied: requests>=2.23.0 in /usr/local/lib/python3.10/dist-packages (from ultralytics) (2.31.0)\n",
            "Requirement already satisfied: scipy>=1.4.1 in /usr/local/lib/python3.10/dist-packages (from ultralytics) (1.11.4)\n",
            "Requirement already satisfied: torch>=1.8.0 in /usr/local/lib/python3.10/dist-packages (from ultralytics) (2.1.0+cu121)\n",
            "Requirement already satisfied: torchvision>=0.9.0 in /usr/local/lib/python3.10/dist-packages (from ultralytics) (0.16.0+cu121)\n",
            "Requirement already satisfied: tqdm>=4.64.0 in /usr/local/lib/python3.10/dist-packages (from ultralytics) (4.66.2)\n",
            "Requirement already satisfied: psutil in /usr/local/lib/python3.10/dist-packages (from ultralytics) (5.9.5)\n",
            "Requirement already satisfied: py-cpuinfo in /usr/local/lib/python3.10/dist-packages (from ultralytics) (9.0.0)\n",
            "Requirement already satisfied: thop>=0.1.1 in /usr/local/lib/python3.10/dist-packages (from ultralytics) (0.1.1.post2209072238)\n",
            "Requirement already satisfied: pandas>=1.1.4 in /usr/local/lib/python3.10/dist-packages (from ultralytics) (1.5.3)\n",
            "Requirement already satisfied: seaborn>=0.11.0 in /usr/local/lib/python3.10/dist-packages (from ultralytics) (0.13.1)\n",
            "Requirement already satisfied: contourpy>=1.0.1 in /usr/local/lib/python3.10/dist-packages (from matplotlib>=3.3.0->ultralytics) (1.2.0)\n",
            "Requirement already satisfied: cycler>=0.10 in /usr/local/lib/python3.10/dist-packages (from matplotlib>=3.3.0->ultralytics) (0.12.1)\n",
            "Requirement already satisfied: fonttools>=4.22.0 in /usr/local/lib/python3.10/dist-packages (from matplotlib>=3.3.0->ultralytics) (4.49.0)\n",
            "Requirement already satisfied: kiwisolver>=1.0.1 in /usr/local/lib/python3.10/dist-packages (from matplotlib>=3.3.0->ultralytics) (1.4.5)\n",
            "Requirement already satisfied: numpy>=1.20 in /usr/local/lib/python3.10/dist-packages (from matplotlib>=3.3.0->ultralytics) (1.25.2)\n",
            "Requirement already satisfied: packaging>=20.0 in /usr/local/lib/python3.10/dist-packages (from matplotlib>=3.3.0->ultralytics) (23.2)\n",
            "Requirement already satisfied: pyparsing>=2.3.1 in /usr/local/lib/python3.10/dist-packages (from matplotlib>=3.3.0->ultralytics) (3.1.1)\n",
            "Requirement already satisfied: python-dateutil>=2.7 in /usr/local/lib/python3.10/dist-packages (from matplotlib>=3.3.0->ultralytics) (2.8.2)\n",
            "Requirement already satisfied: pytz>=2020.1 in /usr/local/lib/python3.10/dist-packages (from pandas>=1.1.4->ultralytics) (2023.4)\n",
            "Requirement already satisfied: charset-normalizer<4,>=2 in /usr/local/lib/python3.10/dist-packages (from requests>=2.23.0->ultralytics) (3.3.2)\n",
            "Requirement already satisfied: idna<4,>=2.5 in /usr/local/lib/python3.10/dist-packages (from requests>=2.23.0->ultralytics) (3.6)\n",
            "Requirement already satisfied: urllib3<3,>=1.21.1 in /usr/local/lib/python3.10/dist-packages (from requests>=2.23.0->ultralytics) (2.0.7)\n",
            "Requirement already satisfied: certifi>=2017.4.17 in /usr/local/lib/python3.10/dist-packages (from requests>=2.23.0->ultralytics) (2024.2.2)\n",
            "Requirement already satisfied: filelock in /usr/local/lib/python3.10/dist-packages (from torch>=1.8.0->ultralytics) (3.13.1)\n",
            "Requirement already satisfied: typing-extensions in /usr/local/lib/python3.10/dist-packages (from torch>=1.8.0->ultralytics) (4.9.0)\n",
            "Requirement already satisfied: sympy in /usr/local/lib/python3.10/dist-packages (from torch>=1.8.0->ultralytics) (1.12)\n",
            "Requirement already satisfied: networkx in /usr/local/lib/python3.10/dist-packages (from torch>=1.8.0->ultralytics) (3.2.1)\n",
            "Requirement already satisfied: jinja2 in /usr/local/lib/python3.10/dist-packages (from torch>=1.8.0->ultralytics) (3.1.3)\n",
            "Requirement already satisfied: fsspec in /usr/local/lib/python3.10/dist-packages (from torch>=1.8.0->ultralytics) (2023.6.0)\n",
            "Requirement already satisfied: triton==2.1.0 in /usr/local/lib/python3.10/dist-packages (from torch>=1.8.0->ultralytics) (2.1.0)\n",
            "Requirement already satisfied: six>=1.5 in /usr/local/lib/python3.10/dist-packages (from python-dateutil>=2.7->matplotlib>=3.3.0->ultralytics) (1.16.0)\n",
            "Requirement already satisfied: MarkupSafe>=2.0 in /usr/local/lib/python3.10/dist-packages (from jinja2->torch>=1.8.0->ultralytics) (2.1.5)\n",
            "Requirement already satisfied: mpmath>=0.19 in /usr/local/lib/python3.10/dist-packages (from sympy->torch>=1.8.0->ultralytics) (1.3.0)\n"
          ]
        }
      ]
    },
    {
      "cell_type": "code",
      "source": [
        "import ultralytics"
      ],
      "metadata": {
        "id": "UzBw-8CaN2es"
      },
      "execution_count": 13,
      "outputs": []
    },
    {
      "cell_type": "markdown",
      "source": [
        "# **importing Model**"
      ],
      "metadata": {
        "id": "vVFQBzymdbxz"
      }
    },
    {
      "cell_type": "code",
      "source": [
        "from ultralytics import YOLO"
      ],
      "metadata": {
        "id": "Pcjqxri9N2SM"
      },
      "execution_count": 14,
      "outputs": []
    },
    {
      "cell_type": "markdown",
      "source": [
        "# **Training**"
      ],
      "metadata": {
        "id": "NV17rH0jdbB0"
      }
    },
    {
      "cell_type": "code",
      "source": [
        "!yolo  task=detect mode=train model=yolov8n.pt imgsz=640 data='/content/drive/MyDrive/project/face_mask_rec_using_yolov8/face_data-20240225T125822Z-001/face_data/dataa.yaml' epochs=20 batch=16 name=yolov8m"
      ],
      "metadata": {
        "colab": {
          "base_uri": "https://localhost:8080/"
        },
        "id": "qSrMVodoOBHG",
        "outputId": "47a0d56c-27a1-435b-af85-1bb725324a38"
      },
      "execution_count": 15,
      "outputs": [
        {
          "output_type": "stream",
          "name": "stdout",
          "text": [
            "Downloading https://github.com/ultralytics/assets/releases/download/v8.1.0/yolov8n.pt to 'yolov8n.pt'...\n",
            "100% 6.23M/6.23M [00:00<00:00, 163MB/s]\n",
            "Ultralytics YOLOv8.1.19 🚀 Python-3.10.12 torch-2.1.0+cu121 CUDA:0 (Tesla T4, 15102MiB)\n",
            "\u001b[34m\u001b[1mengine/trainer: \u001b[0mtask=detect, mode=train, model=yolov8n.pt, data=/content/drive/MyDrive/project/face_mask_rec_using_yolov8/face_data-20240225T125822Z-001/face_data/dataa.yaml, epochs=20, time=None, patience=100, batch=16, imgsz=640, save=True, save_period=-1, cache=False, device=None, workers=8, project=None, name=yolov8m, exist_ok=False, pretrained=True, optimizer=auto, verbose=True, seed=0, deterministic=True, single_cls=False, rect=False, cos_lr=False, close_mosaic=10, resume=False, amp=True, fraction=1.0, profile=False, freeze=None, multi_scale=False, overlap_mask=True, mask_ratio=4, dropout=0.0, val=True, split=val, save_json=False, save_hybrid=False, conf=None, iou=0.7, max_det=300, half=False, dnn=False, plots=True, source=None, vid_stride=1, stream_buffer=False, visualize=False, augment=False, agnostic_nms=False, classes=None, retina_masks=False, embed=None, show=False, save_frames=False, save_txt=False, save_conf=False, save_crop=False, show_labels=True, show_conf=True, show_boxes=True, line_width=None, format=torchscript, keras=False, optimize=False, int8=False, dynamic=False, simplify=False, opset=None, workspace=4, nms=False, lr0=0.01, lrf=0.01, momentum=0.937, weight_decay=0.0005, warmup_epochs=3.0, warmup_momentum=0.8, warmup_bias_lr=0.1, box=7.5, cls=0.5, dfl=1.5, pose=12.0, kobj=1.0, label_smoothing=0.0, nbs=64, hsv_h=0.015, hsv_s=0.7, hsv_v=0.4, degrees=0.0, translate=0.1, scale=0.5, shear=0.0, perspective=0.0, flipud=0.0, fliplr=0.5, mosaic=1.0, mixup=0.0, copy_paste=0.0, auto_augment=randaugment, erasing=0.4, crop_fraction=1.0, cfg=None, tracker=botsort.yaml, save_dir=runs/detect/yolov8m\n",
            "2024-02-27 06:49:22.802640: E external/local_xla/xla/stream_executor/cuda/cuda_dnn.cc:9261] Unable to register cuDNN factory: Attempting to register factory for plugin cuDNN when one has already been registered\n",
            "2024-02-27 06:49:22.802700: E external/local_xla/xla/stream_executor/cuda/cuda_fft.cc:607] Unable to register cuFFT factory: Attempting to register factory for plugin cuFFT when one has already been registered\n",
            "2024-02-27 06:49:22.804043: E external/local_xla/xla/stream_executor/cuda/cuda_blas.cc:1515] Unable to register cuBLAS factory: Attempting to register factory for plugin cuBLAS when one has already been registered\n",
            "Overriding model.yaml nc=80 with nc=2\n",
            "\n",
            "                   from  n    params  module                                       arguments                     \n",
            "  0                  -1  1       464  ultralytics.nn.modules.conv.Conv             [3, 16, 3, 2]                 \n",
            "  1                  -1  1      4672  ultralytics.nn.modules.conv.Conv             [16, 32, 3, 2]                \n",
            "  2                  -1  1      7360  ultralytics.nn.modules.block.C2f             [32, 32, 1, True]             \n",
            "  3                  -1  1     18560  ultralytics.nn.modules.conv.Conv             [32, 64, 3, 2]                \n",
            "  4                  -1  2     49664  ultralytics.nn.modules.block.C2f             [64, 64, 2, True]             \n",
            "  5                  -1  1     73984  ultralytics.nn.modules.conv.Conv             [64, 128, 3, 2]               \n",
            "  6                  -1  2    197632  ultralytics.nn.modules.block.C2f             [128, 128, 2, True]           \n",
            "  7                  -1  1    295424  ultralytics.nn.modules.conv.Conv             [128, 256, 3, 2]              \n",
            "  8                  -1  1    460288  ultralytics.nn.modules.block.C2f             [256, 256, 1, True]           \n",
            "  9                  -1  1    164608  ultralytics.nn.modules.block.SPPF            [256, 256, 5]                 \n",
            " 10                  -1  1         0  torch.nn.modules.upsampling.Upsample         [None, 2, 'nearest']          \n",
            " 11             [-1, 6]  1         0  ultralytics.nn.modules.conv.Concat           [1]                           \n",
            " 12                  -1  1    148224  ultralytics.nn.modules.block.C2f             [384, 128, 1]                 \n",
            " 13                  -1  1         0  torch.nn.modules.upsampling.Upsample         [None, 2, 'nearest']          \n",
            " 14             [-1, 4]  1         0  ultralytics.nn.modules.conv.Concat           [1]                           \n",
            " 15                  -1  1     37248  ultralytics.nn.modules.block.C2f             [192, 64, 1]                  \n",
            " 16                  -1  1     36992  ultralytics.nn.modules.conv.Conv             [64, 64, 3, 2]                \n",
            " 17            [-1, 12]  1         0  ultralytics.nn.modules.conv.Concat           [1]                           \n",
            " 18                  -1  1    123648  ultralytics.nn.modules.block.C2f             [192, 128, 1]                 \n",
            " 19                  -1  1    147712  ultralytics.nn.modules.conv.Conv             [128, 128, 3, 2]              \n",
            " 20             [-1, 9]  1         0  ultralytics.nn.modules.conv.Concat           [1]                           \n",
            " 21                  -1  1    493056  ultralytics.nn.modules.block.C2f             [384, 256, 1]                 \n",
            " 22        [15, 18, 21]  1    751702  ultralytics.nn.modules.head.Detect           [2, [64, 128, 256]]           \n",
            "Model summary: 225 layers, 3011238 parameters, 3011222 gradients, 8.2 GFLOPs\n",
            "\n",
            "Transferred 319/355 items from pretrained weights\n",
            "\u001b[34m\u001b[1mTensorBoard: \u001b[0mStart with 'tensorboard --logdir runs/detect/yolov8m', view at http://localhost:6006/\n",
            "Freezing layer 'model.22.dfl.conv.weight'\n",
            "\u001b[34m\u001b[1mAMP: \u001b[0mrunning Automatic Mixed Precision (AMP) checks with YOLOv8n...\n",
            "\u001b[34m\u001b[1mAMP: \u001b[0mchecks passed ✅\n",
            "\u001b[34m\u001b[1mtrain: \u001b[0mScanning /content/drive/MyDrive/project/face_mask_rec_using_yolov8/face_data-20240225T125822Z-001/face_data/train/labels.cache... 1161 images, 0 backgrounds, 0 corrupt: 100% 1161/1161 [00:00<?, ?it/s]\n",
            "\u001b[34m\u001b[1malbumentations: \u001b[0mBlur(p=0.01, blur_limit=(3, 7)), MedianBlur(p=0.01, blur_limit=(3, 7)), ToGray(p=0.01), CLAHE(p=0.01, clip_limit=(1, 4.0), tile_grid_size=(8, 8))\n",
            "\u001b[34m\u001b[1mval: \u001b[0mScanning /content/drive/MyDrive/project/face_mask_rec_using_yolov8/face_data-20240225T125822Z-001/face_data/val/labels.cache... 290 images, 0 backgrounds, 0 corrupt: 100% 290/290 [00:00<?, ?it/s]\n",
            "Plotting labels to runs/detect/yolov8m/labels.jpg... \n",
            "libpng warning: iCCP: Not recognizing known sRGB profile that has been edited\n",
            "\u001b[34m\u001b[1moptimizer:\u001b[0m 'optimizer=auto' found, ignoring 'lr0=0.01' and 'momentum=0.937' and determining best 'optimizer', 'lr0' and 'momentum' automatically... \n",
            "\u001b[34m\u001b[1moptimizer:\u001b[0m AdamW(lr=0.001667, momentum=0.9) with parameter groups 57 weight(decay=0.0), 64 weight(decay=0.0005), 63 bias(decay=0.0)\n",
            "\u001b[34m\u001b[1mTensorBoard: \u001b[0mmodel graph visualization added ✅\n",
            "Image sizes 640 train, 640 val\n",
            "Using 2 dataloader workers\n",
            "Logging results to \u001b[1mruns/detect/yolov8m\u001b[0m\n",
            "Starting training for 20 epochs...\n",
            "\n",
            "      Epoch    GPU_mem   box_loss   cls_loss   dfl_loss  Instances       Size\n",
            "       1/20      2.68G      1.808       2.36      1.392         60        640: 100% 73/73 [00:40<00:00,  1.81it/s]\n",
            "                 Class     Images  Instances      Box(P          R      mAP50  mAP50-95): 100% 10/10 [00:06<00:00,  1.58it/s]\n",
            "                   all        290       1079      0.884      0.309      0.573       0.29\n",
            "\n",
            "      Epoch    GPU_mem   box_loss   cls_loss   dfl_loss  Instances       Size\n",
            "       2/20      2.63G      1.567       1.44      1.211        114        640:  85% 62/73 [00:30<00:04,  2.20it/s]libpng warning: iCCP: Not recognizing known sRGB profile that has been edited\n",
            "       2/20      2.64G      1.565      1.422      1.212         74        640: 100% 73/73 [00:36<00:00,  1.97it/s]\n",
            "                 Class     Images  Instances      Box(P          R      mAP50  mAP50-95): 100% 10/10 [00:04<00:00,  2.10it/s]\n",
            "                   all        290       1079      0.837      0.617       0.71      0.349\n",
            "\n",
            "      Epoch    GPU_mem   box_loss   cls_loss   dfl_loss  Instances       Size\n",
            "       3/20       2.3G      1.561      1.298      1.241        119        640:  29% 21/73 [00:09<00:24,  2.12it/s]libpng warning: iCCP: Not recognizing known sRGB profile that has been edited\n",
            "       3/20      2.84G      1.546      1.249      1.213         58        640: 100% 73/73 [00:36<00:00,  1.99it/s]\n",
            "                 Class     Images  Instances      Box(P          R      mAP50  mAP50-95): 100% 10/10 [00:05<00:00,  1.95it/s]\n",
            "                   all        290       1079      0.758      0.661      0.727        0.4\n",
            "\n",
            "      Epoch    GPU_mem   box_loss   cls_loss   dfl_loss  Instances       Size\n",
            "       4/20      2.49G      1.526      1.154      1.202        134        640:  49% 36/73 [00:17<00:17,  2.16it/s]libpng warning: iCCP: Not recognizing known sRGB profile that has been edited\n",
            "       4/20      2.51G      1.505      1.145      1.202         67        640: 100% 73/73 [00:35<00:00,  2.03it/s]\n",
            "                 Class     Images  Instances      Box(P          R      mAP50  mAP50-95): 100% 10/10 [00:05<00:00,  1.84it/s]\n",
            "                   all        290       1079      0.777       0.66      0.719      0.374\n",
            "\n",
            "      Epoch    GPU_mem   box_loss   cls_loss   dfl_loss  Instances       Size\n",
            "       5/20      2.58G       1.52      1.072      1.201        193        640:  96% 70/73 [00:34<00:01,  2.17it/s]libpng warning: iCCP: Not recognizing known sRGB profile that has been edited\n",
            "       5/20       2.6G      1.522      1.072      1.202         45        640: 100% 73/73 [00:35<00:00,  2.08it/s]\n",
            "                 Class     Images  Instances      Box(P          R      mAP50  mAP50-95): 100% 10/10 [00:06<00:00,  1.52it/s]\n",
            "                   all        290       1079      0.851      0.728      0.796      0.425\n",
            "\n",
            "      Epoch    GPU_mem   box_loss   cls_loss   dfl_loss  Instances       Size\n",
            "       6/20      2.56G      1.477     0.9996      1.179        242        640:  48% 35/73 [00:16<00:17,  2.14it/s]libpng warning: iCCP: Not recognizing known sRGB profile that has been edited\n",
            "       6/20      2.57G      1.472     0.9915      1.177         52        640: 100% 73/73 [00:34<00:00,  2.10it/s]\n",
            "                 Class     Images  Instances      Box(P          R      mAP50  mAP50-95): 100% 10/10 [00:06<00:00,  1.51it/s]\n",
            "                   all        290       1079      0.817      0.629      0.728      0.405\n",
            "\n",
            "      Epoch    GPU_mem   box_loss   cls_loss   dfl_loss  Instances       Size\n",
            "       7/20      2.43G       1.45      0.952      1.168         99        640:  52% 38/73 [00:17<00:15,  2.24it/s]libpng warning: iCCP: Not recognizing known sRGB profile that has been edited\n",
            "       7/20      2.85G      1.474     0.9649      1.171        163        640: 100% 73/73 [00:34<00:00,  2.11it/s]\n",
            "                 Class     Images  Instances      Box(P          R      mAP50  mAP50-95): 100% 10/10 [00:06<00:00,  1.54it/s]\n",
            "                   all        290       1079      0.857      0.722      0.807      0.444\n",
            "\n",
            "      Epoch    GPU_mem   box_loss   cls_loss   dfl_loss  Instances       Size\n",
            "       8/20      2.45G      1.434     0.9168      1.141        101        640:  82% 60/73 [00:28<00:04,  2.64it/s]libpng warning: iCCP: Not recognizing known sRGB profile that has been edited\n",
            "       8/20      2.65G      1.434     0.9174      1.146         34        640: 100% 73/73 [00:34<00:00,  2.12it/s]\n",
            "                 Class     Images  Instances      Box(P          R      mAP50  mAP50-95): 100% 10/10 [00:06<00:00,  1.52it/s]\n",
            "                   all        290       1079      0.858      0.737      0.811      0.451\n",
            "\n",
            "      Epoch    GPU_mem   box_loss   cls_loss   dfl_loss  Instances       Size\n",
            "       9/20      2.56G      1.399     0.8981      1.147        107        640:  85% 62/73 [00:29<00:05,  1.97it/s]libpng warning: iCCP: Not recognizing known sRGB profile that has been edited\n",
            "       9/20      2.58G      1.408     0.8976      1.146         56        640: 100% 73/73 [00:35<00:00,  2.03it/s]\n",
            "                 Class     Images  Instances      Box(P          R      mAP50  mAP50-95): 100% 10/10 [00:04<00:00,  2.01it/s]\n",
            "                   all        290       1079      0.821      0.748       0.81      0.458\n",
            "\n",
            "      Epoch    GPU_mem   box_loss   cls_loss   dfl_loss  Instances       Size\n",
            "      10/20      2.54G      1.401     0.8732       1.13        140        640:  68% 50/73 [00:24<00:09,  2.33it/s]libpng warning: iCCP: Not recognizing known sRGB profile that has been edited\n",
            "      10/20      2.55G      1.389     0.8646      1.134         57        640: 100% 73/73 [00:36<00:00,  2.02it/s]\n",
            "                 Class     Images  Instances      Box(P          R      mAP50  mAP50-95): 100% 10/10 [00:04<00:00,  2.09it/s]\n",
            "                   all        290       1079       0.87      0.744       0.82      0.445\n",
            "Closing dataloader mosaic\n",
            "\u001b[34m\u001b[1malbumentations: \u001b[0mBlur(p=0.01, blur_limit=(3, 7)), MedianBlur(p=0.01, blur_limit=(3, 7)), ToGray(p=0.01), CLAHE(p=0.01, clip_limit=(1, 4.0), tile_grid_size=(8, 8))\n",
            "\n",
            "      Epoch    GPU_mem   box_loss   cls_loss   dfl_loss  Instances       Size\n",
            "      11/20      2.49G      1.415     0.8703      1.171        120        640:  85% 62/73 [00:32<00:07,  1.50it/s]libpng warning: iCCP: Not recognizing known sRGB profile that has been edited\n",
            "      11/20      2.71G      1.407     0.8647      1.169         18        640: 100% 73/73 [00:37<00:00,  1.94it/s]\n",
            "                 Class     Images  Instances      Box(P          R      mAP50  mAP50-95): 100% 10/10 [00:04<00:00,  2.20it/s]\n",
            "                   all        290       1079      0.873      0.727      0.824      0.459\n",
            "\n",
            "      Epoch    GPU_mem   box_loss   cls_loss   dfl_loss  Instances       Size\n",
            "      12/20      2.54G      1.399     0.8311      1.155         90        640:  90% 66/73 [00:31<00:04,  1.65it/s]libpng warning: iCCP: Not recognizing known sRGB profile that has been edited\n",
            "      12/20      2.56G        1.4     0.8377      1.161         33        640: 100% 73/73 [00:34<00:00,  2.13it/s]\n",
            "                 Class     Images  Instances      Box(P          R      mAP50  mAP50-95): 100% 10/10 [00:04<00:00,  2.08it/s]\n",
            "                   all        290       1079       0.84      0.777      0.834      0.463\n",
            "\n",
            "      Epoch    GPU_mem   box_loss   cls_loss   dfl_loss  Instances       Size\n",
            "      13/20       2.8G      1.369     0.8015      1.142         56        640:  75% 55/73 [00:25<00:07,  2.35it/s]libpng warning: iCCP: Not recognizing known sRGB profile that has been edited\n",
            "      13/20      2.81G      1.379     0.8069      1.146         19        640: 100% 73/73 [00:34<00:00,  2.13it/s]\n",
            "                 Class     Images  Instances      Box(P          R      mAP50  mAP50-95): 100% 10/10 [00:04<00:00,  2.06it/s]\n",
            "                   all        290       1079       0.89      0.723      0.822      0.459\n",
            "\n",
            "      Epoch    GPU_mem   box_loss   cls_loss   dfl_loss  Instances       Size\n",
            "      14/20      2.64G      1.343     0.7634      1.124         36        640:  74% 54/73 [00:24<00:07,  2.59it/s]libpng warning: iCCP: Not recognizing known sRGB profile that has been edited\n",
            "      14/20      2.65G      1.348     0.7625      1.129         29        640: 100% 73/73 [00:33<00:00,  2.15it/s]\n",
            "                 Class     Images  Instances      Box(P          R      mAP50  mAP50-95): 100% 10/10 [00:05<00:00,  1.97it/s]\n",
            "                   all        290       1079      0.853      0.782      0.839      0.478\n",
            "\n",
            "      Epoch    GPU_mem   box_loss   cls_loss   dfl_loss  Instances       Size\n",
            "      15/20      2.28G      1.345     0.7847      1.119         50        640:  15% 11/73 [00:04<00:35,  1.74it/s]libpng warning: iCCP: Not recognizing known sRGB profile that has been edited\n",
            "      15/20      2.81G      1.317     0.7335      1.114         33        640: 100% 73/73 [00:34<00:00,  2.12it/s]\n",
            "                 Class     Images  Instances      Box(P          R      mAP50  mAP50-95): 100% 10/10 [00:04<00:00,  2.07it/s]\n",
            "                   all        290       1079      0.873      0.752      0.836      0.477\n",
            "\n",
            "      Epoch    GPU_mem   box_loss   cls_loss   dfl_loss  Instances       Size\n",
            "      16/20      2.51G      1.295     0.7277      1.107         44        640:  75% 55/73 [00:25<00:07,  2.55it/s]libpng warning: iCCP: Not recognizing known sRGB profile that has been edited\n",
            "      16/20      2.53G      1.312     0.7213       1.11         62        640: 100% 73/73 [00:34<00:00,  2.12it/s]\n",
            "                 Class     Images  Instances      Box(P          R      mAP50  mAP50-95): 100% 10/10 [00:05<00:00,  1.98it/s]\n",
            "                   all        290       1079      0.861      0.782      0.835      0.463\n",
            "\n",
            "      Epoch    GPU_mem   box_loss   cls_loss   dfl_loss  Instances       Size\n",
            "      17/20      2.58G      1.301     0.7006      1.114         64        640:  55% 40/73 [00:17<00:11,  2.76it/s]libpng warning: iCCP: Not recognizing known sRGB profile that has been edited\n",
            "      17/20      2.59G      1.303     0.7059       1.12         24        640: 100% 73/73 [00:34<00:00,  2.13it/s]\n",
            "                 Class     Images  Instances      Box(P          R      mAP50  mAP50-95):   0% 0/10 [00:00<?, ?it/s]libpng warning: iCCP: Not recognizing known sRGB profile that has been edited\n",
            "                 Class     Images  Instances      Box(P          R      mAP50  mAP50-95): 100% 10/10 [00:05<00:00,  1.97it/s]\n",
            "                   all        290       1079      0.865      0.768       0.83      0.472\n",
            "\n",
            "      Epoch    GPU_mem   box_loss   cls_loss   dfl_loss  Instances       Size\n",
            "      18/20      2.69G      1.264     0.6709      1.087         56        640: 100% 73/73 [00:33<00:00,  2.18it/s]\n",
            "                 Class     Images  Instances      Box(P          R      mAP50  mAP50-95): 100% 10/10 [00:05<00:00,  1.71it/s]\n",
            "                   all        290       1079      0.856      0.798      0.846      0.487\n",
            "\n",
            "      Epoch    GPU_mem   box_loss   cls_loss   dfl_loss  Instances       Size\n",
            "      19/20      2.46G       1.26     0.6532      1.082         53        640:  48% 35/73 [00:15<00:15,  2.38it/s]libpng warning: iCCP: Not recognizing known sRGB profile that has been edited\n",
            "      19/20      2.71G      1.263     0.6582      1.077         19        640: 100% 73/73 [00:33<00:00,  2.18it/s]\n",
            "                 Class     Images  Instances      Box(P          R      mAP50  mAP50-95): 100% 10/10 [00:05<00:00,  1.77it/s]\n",
            "                   all        290       1079      0.865      0.811      0.864      0.509\n",
            "\n",
            "      Epoch    GPU_mem   box_loss   cls_loss   dfl_loss  Instances       Size\n",
            "      20/20      2.52G      1.238     0.6342      1.068         72        640:  66% 48/73 [00:22<00:16,  1.54it/s]libpng warning: iCCP: Not recognizing known sRGB profile that has been edited\n",
            "      20/20      2.54G       1.23     0.6321       1.07         18        640: 100% 73/73 [00:33<00:00,  2.18it/s]\n",
            "                 Class     Images  Instances      Box(P          R      mAP50  mAP50-95): 100% 10/10 [00:06<00:00,  1.62it/s]\n",
            "                   all        290       1079      0.881      0.793      0.871      0.504\n",
            "\n",
            "20 epochs completed in 0.236 hours.\n",
            "Optimizer stripped from runs/detect/yolov8m/weights/last.pt, 6.2MB\n",
            "Optimizer stripped from runs/detect/yolov8m/weights/best.pt, 6.2MB\n",
            "\n",
            "Validating runs/detect/yolov8m/weights/best.pt...\n",
            "Ultralytics YOLOv8.1.19 🚀 Python-3.10.12 torch-2.1.0+cu121 CUDA:0 (Tesla T4, 15102MiB)\n",
            "Model summary (fused): 168 layers, 3006038 parameters, 0 gradients, 8.1 GFLOPs\n",
            "                 Class     Images  Instances      Box(P          R      mAP50  mAP50-95): 100% 10/10 [00:09<00:00,  1.11it/s]\n",
            "                   all        290       1079      0.864      0.813      0.864      0.509\n",
            "                  Mask        290        822      0.901      0.883      0.938      0.601\n",
            "               No Mask        290        257      0.827      0.743      0.791      0.418\n",
            "Speed: 0.5ms preprocess, 3.5ms inference, 0.0ms loss, 4.7ms postprocess per image\n",
            "Results saved to \u001b[1mruns/detect/yolov8m\u001b[0m\n",
            "💡 Learn more at https://docs.ultralytics.com/modes/train\n"
          ]
        }
      ]
    },
    {
      "cell_type": "markdown",
      "source": [
        "# **Testing**"
      ],
      "metadata": {
        "id": "Xt_J-gKcdjeY"
      }
    },
    {
      "cell_type": "code",
      "source": [
        "!yolo task=detect mode=predict model='/content/drive/MyDrive/project/face_mask_rec_using_yolov8/runs/detect/yolov8m/weights/best.pt' conf=0.80 source='/content/drive/MyDrive/project/face_mask_rec_using_yolov8/face_data-20240225T125822Z-001/face_data/test'"
      ],
      "metadata": {
        "colab": {
          "base_uri": "https://localhost:8080/"
        },
        "id": "wLflapPnOA7Q",
        "outputId": "a65a99af-f625-4942-e68b-9fb40ec01947"
      },
      "execution_count": 16,
      "outputs": [
        {
          "output_type": "stream",
          "name": "stdout",
          "text": [
            "Ultralytics YOLOv8.1.19 🚀 Python-3.10.12 torch-2.1.0+cu121 CUDA:0 (Tesla T4, 15102MiB)\n",
            "Model summary (fused): 168 layers, 3006038 parameters, 0 gradients, 8.1 GFLOPs\n",
            "\n",
            "image 1/15 /content/drive/MyDrive/project/face_mask_rec_using_yolov8/face_data-20240225T125822Z-001/face_data/test/173.jpg: 640x640 1 No Mask, 11.1ms\n",
            "image 2/15 /content/drive/MyDrive/project/face_mask_rec_using_yolov8/face_data-20240225T125822Z-001/face_data/test/27.jpg: 640x640 (no detections), 7.4ms\n",
            "image 3/15 /content/drive/MyDrive/project/face_mask_rec_using_yolov8/face_data-20240225T125822Z-001/face_data/test/crowd_mask181.jpg: 384x640 11 Masks, 73.6ms\n",
            "image 4/15 /content/drive/MyDrive/project/face_mask_rec_using_yolov8/face_data-20240225T125822Z-001/face_data/test/crowd_mask23.jpg: 352x640 (no detections), 61.5ms\n",
            "image 5/15 /content/drive/MyDrive/project/face_mask_rec_using_yolov8/face_data-20240225T125822Z-001/face_data/test/crowd_mask38.jpg: 416x640 1 Mask, 59.7ms\n",
            "image 6/15 /content/drive/MyDrive/project/face_mask_rec_using_yolov8/face_data-20240225T125822Z-001/face_data/test/crowd_mask62.jpg: 480x640 3 Masks, 57.3ms\n",
            "image 7/15 /content/drive/MyDrive/project/face_mask_rec_using_yolov8/face_data-20240225T125822Z-001/face_data/test/crowd_mask65.jpg: 384x640 1 No Mask, 7.6ms\n",
            "image 8/15 /content/drive/MyDrive/project/face_mask_rec_using_yolov8/face_data-20240225T125822Z-001/face_data/test/image_117.jpg: 416x640 (no detections), 7.9ms\n",
            "image 9/15 /content/drive/MyDrive/project/face_mask_rec_using_yolov8/face_data-20240225T125822Z-001/face_data/test/image_5.jpg: 480x640 1 Mask, 7.2ms\n",
            "image 10/15 /content/drive/MyDrive/project/face_mask_rec_using_yolov8/face_data-20240225T125822Z-001/face_data/test/image_503.jpg: 448x640 1 Mask, 57.2ms\n",
            "image 11/15 /content/drive/MyDrive/project/face_mask_rec_using_yolov8/face_data-20240225T125822Z-001/face_data/test/image_577.jpeg: 640x448 4 Masks, 61.5ms\n",
            "image 12/15 /content/drive/MyDrive/project/face_mask_rec_using_yolov8/face_data-20240225T125822Z-001/face_data/test/image_602.jpg: 640x448 1 No Mask, 7.3ms\n",
            "image 13/15 /content/drive/MyDrive/project/face_mask_rec_using_yolov8/face_data-20240225T125822Z-001/face_data/test/image_605.jpg: 640x448 1 Mask, 6.9ms\n",
            "image 14/15 /content/drive/MyDrive/project/face_mask_rec_using_yolov8/face_data-20240225T125822Z-001/face_data/test/image_609.jpg: 640x448 (no detections), 6.9ms\n",
            "image 15/15 /content/drive/MyDrive/project/face_mask_rec_using_yolov8/face_data-20240225T125822Z-001/face_data/test/new_116.jpg: 640x640 (no detections), 8.1ms\n",
            "Speed: 2.4ms preprocess, 29.4ms inference, 34.8ms postprocess per image at shape (1, 3, 640, 640)\n",
            "Results saved to \u001b[1mruns/detect/predict\u001b[0m\n",
            "💡 Learn more at https://docs.ultralytics.com/modes/predict\n"
          ]
        }
      ]
    }
  ]
}